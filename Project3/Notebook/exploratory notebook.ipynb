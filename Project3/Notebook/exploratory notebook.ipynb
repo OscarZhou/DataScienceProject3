{
 "cells": [
  {
   "cell_type": "code",
   "execution_count": 1,
   "metadata": {
    "collapsed": false,
    "scrolled": true
   },
   "outputs": [
    {
     "name": "stdout",
     "output_type": "stream",
     "text": [
      "Requirement already satisfied (use --upgrade to upgrade): unirest in e:\\program files\\winpython-64bit-2.7.10.3\\python-2.7.10.amd64\\lib\\site-packages\n",
      "Requirement already satisfied (use --upgrade to upgrade): poster>=0.8.1 in e:\\program files\\winpython-64bit-2.7.10.3\\python-2.7.10.amd64\\lib\\site-packages (from unirest)\n"
     ]
    },
    {
     "name": "stderr",
     "output_type": "stream",
     "text": [
      "You are using pip version 7.1.2, however version 8.1.2 is available.\n",
      "You should consider upgrading via the 'python -m pip install --upgrade pip' command.\n"
     ]
    }
   ],
   "source": [
    "import pandas as pd\n",
    "import numpy as np\n",
    "import matplotlib.pyplot as plt\n",
    "import seaborn as sns\n",
    "from pylab import rcParams\n",
    "import csv\n",
    "import requests\n",
    "from bs4 import BeautifulSoup\n",
    "import urllib2, urllib, json\n",
    "import re\n",
    "import datetime\n",
    "import statsmodels.formula.api as smf # Regression library\n",
    "\n",
    "!pip install unirest\n",
    "import unirest\n",
    "\n",
    "%matplotlib inline"
   ]
  },
  {
   "cell_type": "code",
   "execution_count": 78,
   "metadata": {
    "collapsed": false,
    "scrolled": true
   },
   "outputs": [
    {
     "name": "stdout",
     "output_type": "stream",
     "text": [
      "<class 'pandas.core.frame.DataFrame'>\n",
      "Int64Index: 416 entries, 0 to 415\n",
      "Data columns (total 1 columns):\n",
      "id;full_name;road_segment_wkt    416 non-null object\n",
      "dtypes: object(1)\n",
      "memory usage: 6.5+ KB\n",
      "None\n"
     ]
    },
    {
     "data": {
      "text/html": [
       "<div>\n",
       "<table border=\"1\" class=\"dataframe\">\n",
       "  <thead>\n",
       "    <tr style=\"text-align: right;\">\n",
       "      <th></th>\n",
       "      <th>id;full_name;road_segment_wkt</th>\n",
       "    </tr>\n",
       "  </thead>\n",
       "  <tbody>\n",
       "    <tr>\n",
       "      <th>0</th>\n",
       "      <td>606114469;Northern Mtwy;LINESTRING(174.76028 -...</td>\n",
       "    </tr>\n",
       "    <tr>\n",
       "      <th>1</th>\n",
       "      <td>606114470;Northern Mtwy;LINESTRING(174.76043 -...</td>\n",
       "    </tr>\n",
       "    <tr>\n",
       "      <th>2</th>\n",
       "      <td>606114471;Northern Mtwy;LINESTRING(174.76009 -...</td>\n",
       "    </tr>\n",
       "    <tr>\n",
       "      <th>3</th>\n",
       "      <td>606114472;Northern Mtwy;LINESTRING(174.76022 -...</td>\n",
       "    </tr>\n",
       "    <tr>\n",
       "      <th>4</th>\n",
       "      <td>605961478;Northern Mtwy;LINESTRING(174.74429 -...</td>\n",
       "    </tr>\n",
       "  </tbody>\n",
       "</table>\n",
       "</div>"
      ],
      "text/plain": [
       "                       id;full_name;road_segment_wkt\n",
       "0  606114469;Northern Mtwy;LINESTRING(174.76028 -...\n",
       "1  606114470;Northern Mtwy;LINESTRING(174.76043 -...\n",
       "2  606114471;Northern Mtwy;LINESTRING(174.76009 -...\n",
       "3  606114472;Northern Mtwy;LINESTRING(174.76022 -...\n",
       "4  605961478;Northern Mtwy;LINESTRING(174.74429 -..."
      ]
     },
     "execution_count": 78,
     "metadata": {},
     "output_type": "execute_result"
    }
   ],
   "source": [
    "dfNorthMotorwayInfo = pd.read_csv('../Datasets/Northern Motorway Road Segments.csv', sep='\\t')\n",
    "print dfNorthMotorwayInfo.info()\n",
    "dfNorthMotorwayInfo.head()"
   ]
  },
  {
   "cell_type": "code",
   "execution_count": 79,
   "metadata": {
    "collapsed": false
   },
   "outputs": [
    {
     "data": {
      "text/html": [
       "<div>\n",
       "<table border=\"1\" class=\"dataframe\">\n",
       "  <thead>\n",
       "    <tr style=\"text-align: right;\">\n",
       "      <th></th>\n",
       "      <th>id</th>\n",
       "      <th>full_name</th>\n",
       "      <th>road_segment_wkt</th>\n",
       "    </tr>\n",
       "  </thead>\n",
       "  <tbody>\n",
       "    <tr>\n",
       "      <th>0</th>\n",
       "      <td>606114469</td>\n",
       "      <td>Northern Mtwy</td>\n",
       "      <td>LINESTRING(174.76028 -36.80417,174.76041 -36.8...</td>\n",
       "    </tr>\n",
       "    <tr>\n",
       "      <th>1</th>\n",
       "      <td>606114470</td>\n",
       "      <td>Northern Mtwy</td>\n",
       "      <td>LINESTRING(174.76043 -36.80419,174.76053 -36.8...</td>\n",
       "    </tr>\n",
       "    <tr>\n",
       "      <th>2</th>\n",
       "      <td>606114471</td>\n",
       "      <td>Northern Mtwy</td>\n",
       "      <td>LINESTRING(174.76009 -36.80453,174.76028 -36.8...</td>\n",
       "    </tr>\n",
       "    <tr>\n",
       "      <th>3</th>\n",
       "      <td>606114472</td>\n",
       "      <td>Northern Mtwy</td>\n",
       "      <td>LINESTRING(174.76022 -36.80458,174.76043 -36.8...</td>\n",
       "    </tr>\n",
       "    <tr>\n",
       "      <th>4</th>\n",
       "      <td>605961478</td>\n",
       "      <td>Northern Mtwy</td>\n",
       "      <td>LINESTRING(174.74429 -36.77469,174.74387 -36.7...</td>\n",
       "    </tr>\n",
       "  </tbody>\n",
       "</table>\n",
       "</div>"
      ],
      "text/plain": [
       "          id      full_name                                   road_segment_wkt\n",
       "0  606114469  Northern Mtwy  LINESTRING(174.76028 -36.80417,174.76041 -36.8...\n",
       "1  606114470  Northern Mtwy  LINESTRING(174.76043 -36.80419,174.76053 -36.8...\n",
       "2  606114471  Northern Mtwy  LINESTRING(174.76009 -36.80453,174.76028 -36.8...\n",
       "3  606114472  Northern Mtwy  LINESTRING(174.76022 -36.80458,174.76043 -36.8...\n",
       "4  605961478  Northern Mtwy  LINESTRING(174.74429 -36.77469,174.74387 -36.7..."
      ]
     },
     "execution_count": 79,
     "metadata": {},
     "output_type": "execute_result"
    }
   ],
   "source": [
    "def clearColumnByMotorway(df):  \n",
    "    # Function for determining if there is the attribute of transmission \n",
    "    def addEntries(fullname):\n",
    "        if fullname is \"\":\n",
    "            return 'Entries'\n",
    "        else:\n",
    "            return fullname\n",
    "        \n",
    "    listAttrs = df['id;full_name;road_segment_wkt'].str.split(';')\n",
    "    \n",
    "    newdf = pd.DataFrame();\n",
    "    newdf['id'] = map(lambda x: x[0], listAttrs)\n",
    "    newdf['full_name'] = map(lambda x: addEntries(x[1]), listAttrs)\n",
    "    newdf['road_segment_wkt'] = map(lambda x: x[2], listAttrs)\n",
    "    #del df['id;full_name;road_segment_wkt']\n",
    "    \n",
    "    return newdf\n",
    "\n",
    "dfNorthMotorwayInfo = clearColumnByMotorway(dfNorthMotorwayInfo)\n",
    "dfNorthMotorwayInfo.to_csv(\"../CleanedDatasets/Northern Motorway Road Segments.csv\")\n",
    "dfNorthMotorwayInfo.head()"
   ]
  },
  {
   "cell_type": "code",
   "execution_count": 114,
   "metadata": {
    "collapsed": false
   },
   "outputs": [
    {
     "data": {
      "text/html": [
       "<div>\n",
       "<table border=\"1\" class=\"dataframe\">\n",
       "  <thead>\n",
       "    <tr style=\"text-align: right;\">\n",
       "      <th></th>\n",
       "      <th>id</th>\n",
       "      <th>event_timestamp</th>\n",
       "      <th>course_over_ground</th>\n",
       "      <th>machine_id</th>\n",
       "      <th>vehicle_weight_type</th>\n",
       "      <th>speed_gps_kph</th>\n",
       "      <th>latitude</th>\n",
       "      <th>longitude</th>\n",
       "    </tr>\n",
       "  </thead>\n",
       "  <tbody>\n",
       "    <tr>\n",
       "      <th>0</th>\n",
       "      <td>14641931007</td>\n",
       "      <td>2015-11-15 17:46:40</td>\n",
       "      <td>177</td>\n",
       "      <td>10051</td>\n",
       "      <td>\"HEAVY\"</td>\n",
       "      <td>3</td>\n",
       "      <td>-36.725578</td>\n",
       "      <td>174.71482</td>\n",
       "    </tr>\n",
       "    <tr>\n",
       "      <th>1</th>\n",
       "      <td>14642568129</td>\n",
       "      <td>2015-11-15 18:12:41</td>\n",
       "      <td>156</td>\n",
       "      <td>10051</td>\n",
       "      <td>\"HEAVY\"</td>\n",
       "      <td>13</td>\n",
       "      <td>-36.769465</td>\n",
       "      <td>174.74159</td>\n",
       "    </tr>\n",
       "    <tr>\n",
       "      <th>2</th>\n",
       "      <td>14641876524</td>\n",
       "      <td>2015-11-15 17:44:30</td>\n",
       "      <td>169</td>\n",
       "      <td>10051</td>\n",
       "      <td>\"HEAVY\"</td>\n",
       "      <td>0</td>\n",
       "      <td>-36.723136</td>\n",
       "      <td>174.714432</td>\n",
       "    </tr>\n",
       "    <tr>\n",
       "      <th>3</th>\n",
       "      <td>14642262476</td>\n",
       "      <td>2015-11-15 18:00:47</td>\n",
       "      <td>150</td>\n",
       "      <td>10051</td>\n",
       "      <td>\"HEAVY\"</td>\n",
       "      <td>17</td>\n",
       "      <td>-36.747435</td>\n",
       "      <td>174.723397</td>\n",
       "    </tr>\n",
       "    <tr>\n",
       "      <th>4</th>\n",
       "      <td>14641991113</td>\n",
       "      <td>2015-11-15 17:49:43</td>\n",
       "      <td>249</td>\n",
       "      <td>10051</td>\n",
       "      <td>\"HEAVY\"</td>\n",
       "      <td>6</td>\n",
       "      <td>-36.72826</td>\n",
       "      <td>174.715083</td>\n",
       "    </tr>\n",
       "  </tbody>\n",
       "</table>\n",
       "</div>"
      ],
      "text/plain": [
       "            id      event_timestamp course_over_ground machine_id  \\\n",
       "0  14641931007  2015-11-15 17:46:40                177      10051   \n",
       "1  14642568129  2015-11-15 18:12:41                156      10051   \n",
       "2  14641876524  2015-11-15 17:44:30                169      10051   \n",
       "3  14642262476  2015-11-15 18:00:47                150      10051   \n",
       "4  14641991113  2015-11-15 17:49:43                249      10051   \n",
       "\n",
       "  vehicle_weight_type speed_gps_kph    latitude   longitude  \n",
       "0             \"HEAVY\"             3  -36.725578   174.71482  \n",
       "1             \"HEAVY\"            13  -36.769465   174.74159  \n",
       "2             \"HEAVY\"             0  -36.723136  174.714432  \n",
       "3             \"HEAVY\"            17  -36.747435  174.723397  \n",
       "4             \"HEAVY\"             6   -36.72826  174.715083  "
      ]
     },
     "execution_count": 114,
     "metadata": {},
     "output_type": "execute_result"
    }
   ],
   "source": [
    "def clearColumnByCar(df):  \n",
    "    listAttrs = df['id;\"event_timestamp\";\"course_over_ground\";\"machine_id\";\"vehicle_weight_type\";\"speed_gps_kph\";\"latitude\";\"longitude\"'].str.split(';')\n",
    "    #listAttrs = df[0].str.split(';')\n",
    "    newdf = pd.DataFrame();\n",
    "    \n",
    "    newdf['id'] = map(lambda x: x[0], listAttrs)\n",
    "    newdf['event_timestamp'] = map(lambda x: x[1], listAttrs)\n",
    "    newdf['course_over_ground'] = map(lambda x: x[2], listAttrs)\n",
    "    newdf['machine_id'] = map(lambda x: x[3], listAttrs)\n",
    "    newdf['vehicle_weight_type'] = map(lambda x: x[4], listAttrs)\n",
    "    newdf['speed_gps_kph'] = map(lambda x: x[5], listAttrs)\n",
    "    newdf['latitude'] = map(lambda x: x[6], listAttrs)\n",
    "    newdf['longitude'] = map(lambda x: x[7], listAttrs)\n",
    "    #del df['id;full_name;id;\"event_timestamp\";\"course_over_ground\";\"machine_id\";\"vehicle_weight_type\";\"speed_gps_kph\";\"latitude\";\"longitude\"']\n",
    "    \n",
    "    return newdf\n",
    "\n",
    "mdlcopy = clearColumnByCar(mdlcopy)\n",
    "#dfNorthMotorwayInfo.to_csv(\"../CleanedDatasets/Northern Motorway Road Segments.csv\")\n",
    "mdlcopy"
   ]
  },
  {
   "cell_type": "code",
   "execution_count": 92,
   "metadata": {
    "collapsed": false
   },
   "outputs": [
    {
     "data": {
      "text/html": [
       "<div>\n",
       "<table border=\"1\" class=\"dataframe\">\n",
       "  <thead>\n",
       "    <tr style=\"text-align: right;\">\n",
       "      <th></th>\n",
       "      <th>id;\"event_timestamp\";\"course_over_ground\";\"machine_id\";\"vehicle_weight_type\";\"speed_gps_kph\";\"latitude\";\"longitude\"</th>\n",
       "    </tr>\n",
       "  </thead>\n",
       "  <tbody>\n",
       "    <tr>\n",
       "      <th>0</th>\n",
       "      <td>14641931007;2015-11-15 17:46:40;177;10051;\"HEA...</td>\n",
       "    </tr>\n",
       "    <tr>\n",
       "      <th>1</th>\n",
       "      <td>14642568129;2015-11-15 18:12:41;156;10051;\"HEA...</td>\n",
       "    </tr>\n",
       "    <tr>\n",
       "      <th>2</th>\n",
       "      <td>14641876524;2015-11-15 17:44:30;169;10051;\"HEA...</td>\n",
       "    </tr>\n",
       "    <tr>\n",
       "      <th>3</th>\n",
       "      <td>14642262476;2015-11-15 18:00:47;150;10051;\"HEA...</td>\n",
       "    </tr>\n",
       "    <tr>\n",
       "      <th>4</th>\n",
       "      <td>14641991113;2015-11-15 17:49:43;249;10051;\"HEA...</td>\n",
       "    </tr>\n",
       "  </tbody>\n",
       "</table>\n",
       "</div>"
      ],
      "text/plain": [
       "  id;\"event_timestamp\";\"course_over_ground\";\"machine_id\";\"vehicle_weight_type\";\"speed_gps_kph\";\"latitude\";\"longitude\"\n",
       "0  14641931007;2015-11-15 17:46:40;177;10051;\"HEA...                                                                 \n",
       "1  14642568129;2015-11-15 18:12:41;156;10051;\"HEA...                                                                 \n",
       "2  14641876524;2015-11-15 17:44:30;169;10051;\"HEA...                                                                 \n",
       "3  14642262476;2015-11-15 18:00:47;150;10051;\"HEA...                                                                 \n",
       "4  14641991113;2015-11-15 17:49:43;249;10051;\"HEA...                                                                 "
      ]
     },
     "execution_count": 92,
     "metadata": {},
     "output_type": "execute_result"
    }
   ],
   "source": [
    "import os\n",
    "fileNameList = os.listdir(\"../Datasets/Machine data\") # dir is your directory path\n",
    "machineDataList = []\n",
    "for filename in fileNameList:\n",
    "    ##print \"filename is %s \" % (filename)\n",
    "    dfMachineData = pd.read_csv(\"../Datasets/Machine data/\" + filename, sep='\\t')\n",
    "    dfMachineData = clearColumnByCar(dfMachineData)\n",
    "    dfMachineData.to_csv(\"../CleanedDatasets/Machine data/\" + filename)\n",
    "    machineDataList.append(dfMachineData)\n",
    "machineDataList[0].head()"
   ]
  },
  {
   "cell_type": "markdown",
   "metadata": {},
   "source": [
    "The codes above is to finish the data split stuff."
   ]
  },
  {
   "cell_type": "code",
   "execution_count": null,
   "metadata": {
    "collapsed": true
   },
   "outputs": [],
   "source": []
  },
  {
   "cell_type": "code",
   "execution_count": null,
   "metadata": {
    "collapsed": true
   },
   "outputs": [],
   "source": []
  },
  {
   "cell_type": "code",
   "execution_count": null,
   "metadata": {
    "collapsed": true
   },
   "outputs": [],
   "source": []
  },
  {
   "cell_type": "code",
   "execution_count": null,
   "metadata": {
    "collapsed": true
   },
   "outputs": [],
   "source": []
  },
  {
   "cell_type": "code",
   "execution_count": null,
   "metadata": {
    "collapsed": true
   },
   "outputs": [],
   "source": []
  },
  {
   "cell_type": "code",
   "execution_count": null,
   "metadata": {
    "collapsed": true
   },
   "outputs": [],
   "source": []
  },
  {
   "cell_type": "code",
   "execution_count": 104,
   "metadata": {
    "collapsed": false
   },
   "outputs": [
    {
     "data": {
      "text/html": [
       "<div>\n",
       "<table border=\"1\" class=\"dataframe\">\n",
       "  <thead>\n",
       "    <tr style=\"text-align: right;\">\n",
       "      <th></th>\n",
       "      <th>id;\"event_timestamp\";\"course_over_ground\";\"machine_id\";\"vehicle_weight_type\";\"speed_gps_kph\";\"latitude\";\"longitude\"</th>\n",
       "    </tr>\n",
       "  </thead>\n",
       "  <tbody>\n",
       "    <tr>\n",
       "      <th>0</th>\n",
       "      <td>14641931007;2015-11-15 17:46:40;177;10051;\"HEA...</td>\n",
       "    </tr>\n",
       "    <tr>\n",
       "      <th>1</th>\n",
       "      <td>14642568129;2015-11-15 18:12:41;156;10051;\"HEA...</td>\n",
       "    </tr>\n",
       "    <tr>\n",
       "      <th>2</th>\n",
       "      <td>14641876524;2015-11-15 17:44:30;169;10051;\"HEA...</td>\n",
       "    </tr>\n",
       "    <tr>\n",
       "      <th>3</th>\n",
       "      <td>14642262476;2015-11-15 18:00:47;150;10051;\"HEA...</td>\n",
       "    </tr>\n",
       "    <tr>\n",
       "      <th>4</th>\n",
       "      <td>14641991113;2015-11-15 17:49:43;249;10051;\"HEA...</td>\n",
       "    </tr>\n",
       "  </tbody>\n",
       "</table>\n",
       "</div>"
      ],
      "text/plain": [
       "  id;\"event_timestamp\";\"course_over_ground\";\"machine_id\";\"vehicle_weight_type\";\"speed_gps_kph\";\"latitude\";\"longitude\"\n",
       "0  14641931007;2015-11-15 17:46:40;177;10051;\"HEA...                                                                 \n",
       "1  14642568129;2015-11-15 18:12:41;156;10051;\"HEA...                                                                 \n",
       "2  14641876524;2015-11-15 17:44:30;169;10051;\"HEA...                                                                 \n",
       "3  14642262476;2015-11-15 18:00:47;150;10051;\"HEA...                                                                 \n",
       "4  14641991113;2015-11-15 17:49:43;249;10051;\"HEA...                                                                 "
      ]
     },
     "execution_count": 104,
     "metadata": {},
     "output_type": "execute_result"
    }
   ],
   "source": [
    "mdlcopy = machineDataList[0].head().copy()\n",
    "mdlcopy"
   ]
  },
  {
   "cell_type": "code",
   "execution_count": 113,
   "metadata": {
    "collapsed": false
   },
   "outputs": [
    {
     "name": "stdout",
     "output_type": "stream",
     "text": [
      "14641931007\n",
      "14642568129\n",
      "14641876524\n",
      "14642262476\n",
      "14641991113\n"
     ]
    },
    {
     "data": {
      "text/plain": [
       "0    None\n",
       "1    None\n",
       "2    None\n",
       "3    None\n",
       "4    None\n",
       "Name: id, dtype: object"
      ]
     },
     "execution_count": 113,
     "metadata": {},
     "output_type": "execute_result"
    }
   ],
   "source": [
    "kk = mdlcopy['id;\"event_timestamp\";\"course_over_ground\";\"machine_id\";\"vehicle_weight_type\";\"speed_gps_kph\";\"latitude\";\"longitude\"'].str.split(';')\n",
    "def pr(lists):\n",
    "    print lists\n",
    "df = pd.DataFrame()\n",
    "df['id'] = map(lambda x: pr(x[0]), kk)\n",
    "df['id']"
   ]
  },
  {
   "cell_type": "code",
   "execution_count": 114,
   "metadata": {
    "collapsed": false
   },
   "outputs": [
    {
     "data": {
      "text/html": [
       "<div>\n",
       "<table border=\"1\" class=\"dataframe\">\n",
       "  <thead>\n",
       "    <tr style=\"text-align: right;\">\n",
       "      <th></th>\n",
       "      <th>id</th>\n",
       "      <th>event_timestamp</th>\n",
       "      <th>course_over_ground</th>\n",
       "      <th>machine_id</th>\n",
       "      <th>vehicle_weight_type</th>\n",
       "      <th>speed_gps_kph</th>\n",
       "      <th>latitude</th>\n",
       "      <th>longitude</th>\n",
       "    </tr>\n",
       "  </thead>\n",
       "  <tbody>\n",
       "    <tr>\n",
       "      <th>0</th>\n",
       "      <td>14641931007</td>\n",
       "      <td>2015-11-15 17:46:40</td>\n",
       "      <td>177</td>\n",
       "      <td>10051</td>\n",
       "      <td>\"HEAVY\"</td>\n",
       "      <td>3</td>\n",
       "      <td>-36.725578</td>\n",
       "      <td>174.71482</td>\n",
       "    </tr>\n",
       "    <tr>\n",
       "      <th>1</th>\n",
       "      <td>14642568129</td>\n",
       "      <td>2015-11-15 18:12:41</td>\n",
       "      <td>156</td>\n",
       "      <td>10051</td>\n",
       "      <td>\"HEAVY\"</td>\n",
       "      <td>13</td>\n",
       "      <td>-36.769465</td>\n",
       "      <td>174.74159</td>\n",
       "    </tr>\n",
       "    <tr>\n",
       "      <th>2</th>\n",
       "      <td>14641876524</td>\n",
       "      <td>2015-11-15 17:44:30</td>\n",
       "      <td>169</td>\n",
       "      <td>10051</td>\n",
       "      <td>\"HEAVY\"</td>\n",
       "      <td>0</td>\n",
       "      <td>-36.723136</td>\n",
       "      <td>174.714432</td>\n",
       "    </tr>\n",
       "    <tr>\n",
       "      <th>3</th>\n",
       "      <td>14642262476</td>\n",
       "      <td>2015-11-15 18:00:47</td>\n",
       "      <td>150</td>\n",
       "      <td>10051</td>\n",
       "      <td>\"HEAVY\"</td>\n",
       "      <td>17</td>\n",
       "      <td>-36.747435</td>\n",
       "      <td>174.723397</td>\n",
       "    </tr>\n",
       "    <tr>\n",
       "      <th>4</th>\n",
       "      <td>14641991113</td>\n",
       "      <td>2015-11-15 17:49:43</td>\n",
       "      <td>249</td>\n",
       "      <td>10051</td>\n",
       "      <td>\"HEAVY\"</td>\n",
       "      <td>6</td>\n",
       "      <td>-36.72826</td>\n",
       "      <td>174.715083</td>\n",
       "    </tr>\n",
       "  </tbody>\n",
       "</table>\n",
       "</div>"
      ],
      "text/plain": [
       "            id      event_timestamp course_over_ground machine_id  \\\n",
       "0  14641931007  2015-11-15 17:46:40                177      10051   \n",
       "1  14642568129  2015-11-15 18:12:41                156      10051   \n",
       "2  14641876524  2015-11-15 17:44:30                169      10051   \n",
       "3  14642262476  2015-11-15 18:00:47                150      10051   \n",
       "4  14641991113  2015-11-15 17:49:43                249      10051   \n",
       "\n",
       "  vehicle_weight_type speed_gps_kph    latitude   longitude  \n",
       "0             \"HEAVY\"             3  -36.725578   174.71482  \n",
       "1             \"HEAVY\"            13  -36.769465   174.74159  \n",
       "2             \"HEAVY\"             0  -36.723136  174.714432  \n",
       "3             \"HEAVY\"            17  -36.747435  174.723397  \n",
       "4             \"HEAVY\"             6   -36.72826  174.715083  "
      ]
     },
     "execution_count": 114,
     "metadata": {},
     "output_type": "execute_result"
    }
   ],
   "source": [
    "def clearColumnByCar(df):  \n",
    "    listAttrs = df['id;\"event_timestamp\";\"course_over_ground\";\"machine_id\";\"vehicle_weight_type\";\"speed_gps_kph\";\"latitude\";\"longitude\"'].str.split(';')\n",
    "    #listAttrs = df[0].str.split(';')\n",
    "    newdf = pd.DataFrame();\n",
    "    \n",
    "    newdf['id'] = map(lambda x: x[0], listAttrs)\n",
    "    newdf['event_timestamp'] = map(lambda x: x[1], listAttrs)\n",
    "    newdf['course_over_ground'] = map(lambda x: x[2], listAttrs)\n",
    "    newdf['machine_id'] = map(lambda x: x[3], listAttrs)\n",
    "    newdf['vehicle_weight_type'] = map(lambda x: x[4], listAttrs)\n",
    "    newdf['speed_gps_kph'] = map(lambda x: x[5], listAttrs)\n",
    "    newdf['latitude'] = map(lambda x: x[6], listAttrs)\n",
    "    newdf['longitude'] = map(lambda x: x[7], listAttrs)\n",
    "    #del df['id;full_name;id;\"event_timestamp\";\"course_over_ground\";\"machine_id\";\"vehicle_weight_type\";\"speed_gps_kph\";\"latitude\";\"longitude\"']\n",
    "    \n",
    "    return newdf\n",
    "\n",
    "mdlcopy = clearColumnByCar(mdlcopy)\n",
    "#dfNorthMotorwayInfo.to_csv(\"../CleanedDatasets/Northern Motorway Road Segments.csv\")\n",
    "mdlcopy"
   ]
  },
  {
   "cell_type": "code",
   "execution_count": null,
   "metadata": {
    "collapsed": true
   },
   "outputs": [],
   "source": []
  }
 ],
 "metadata": {
  "kernelspec": {
   "display_name": "Python 2",
   "language": "python",
   "name": "python2"
  },
  "language_info": {
   "codemirror_mode": {
    "name": "ipython",
    "version": 2
   },
   "file_extension": ".py",
   "mimetype": "text/x-python",
   "name": "python",
   "nbconvert_exporter": "python",
   "pygments_lexer": "ipython2",
   "version": "2.7.10"
  }
 },
 "nbformat": 4,
 "nbformat_minor": 0
}
